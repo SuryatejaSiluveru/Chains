{
 "cells": [
  {
   "cell_type": "code",
   "execution_count": null,
   "id": "05db1d03-cf95-4f1f-93aa-297b0f17d961",
   "metadata": {},
   "outputs": [],
   "source": [
    "# Math Chain\n",
    "# Summary Chain\n",
    "# Question - Answering Chains (four types)\n",
    "    # 1. load_qa_chain\n",
    "    # ... 4. conversational chains"
   ]
  },
  {
   "cell_type": "code",
   "execution_count": null,
   "id": "73c548f1-afef-47a6-a229-aa30812ddd2b",
   "metadata": {},
   "outputs": [],
   "source": [
    "#Math Chain"
   ]
  },
  {
   "cell_type": "code",
   "execution_count": 2,
   "id": "a439283e-b46b-4fcb-b130-33870684fb43",
   "metadata": {
    "tags": []
   },
   "outputs": [],
   "source": [
    "from langchain_google_genai import ChatGoogleGenerativeAI\n",
    "chat = ChatGoogleGenerativeAI(model=\"gemini-pro\")"
   ]
  },
  {
   "cell_type": "code",
   "execution_count": 3,
   "id": "a1abe12f-878e-4c92-aa3b-24ad8668c28e",
   "metadata": {
    "tags": []
   },
   "outputs": [],
   "source": [
    "from langchain.chains import LLMMathChain"
   ]
  },
  {
   "cell_type": "code",
   "execution_count": 4,
   "id": "e30169dd-6d95-4461-ae26-fc48b1731672",
   "metadata": {
    "tags": []
   },
   "outputs": [],
   "source": [
    "llm_math_model = LLMMathChain.from_llm(llm=chat)"
   ]
  },
  {
   "cell_type": "code",
   "execution_count": 5,
   "id": "e2bb23e3-04d2-4642-ac7c-759673ad8f33",
   "metadata": {
    "tags": []
   },
   "outputs": [
    {
     "data": {
      "text/plain": [
       "{'question': 'What is 81 to the power of 7',\n",
       " 'answer': 'Answer: 22876792454961'}"
      ]
     },
     "execution_count": 5,
     "metadata": {},
     "output_type": "execute_result"
    }
   ],
   "source": [
    "llm_math_model.invoke(\"What is 81 to the power of 7\")"
   ]
  },
  {
   "cell_type": "code",
   "execution_count": 6,
   "id": "bf05abd3-2e51-4cad-91be-57b3030263de",
   "metadata": {
    "tags": []
   },
   "outputs": [
    {
     "data": {
      "text/plain": [
       "22876792454961"
      ]
     },
     "execution_count": 6,
     "metadata": {},
     "output_type": "execute_result"
    }
   ],
   "source": [
    "81**7"
   ]
  },
  {
   "cell_type": "code",
   "execution_count": 7,
   "id": "e42ad636-6ea8-43ac-bedf-4013dba02e19",
   "metadata": {},
   "outputs": [],
   "source": [
    "#Summary Chain"
   ]
  },
  {
   "cell_type": "code",
   "execution_count": null,
   "id": "8f6f47c5-d079-4182-b57a-429e5b8414fd",
   "metadata": {},
   "outputs": [],
   "source": []
  },
  {
   "cell_type": "code",
   "execution_count": 8,
   "id": "c9bb053a-69cb-4484-bcf0-214936ef1ca0",
   "metadata": {},
   "outputs": [],
   "source": [
    "#load_qa_chain"
   ]
  },
  {
   "cell_type": "code",
   "execution_count": 9,
   "id": "5620bb9c-3bb8-47bb-8023-a8bf3e064c4d",
   "metadata": {},
   "outputs": [],
   "source": [
    "from langchain_community.document_loaders import PyPDFLoader\n",
    "from langchain.text_splitter import RecursiveCharacterTextSplitter\n",
    "from langchain.vectorstores import Chroma\n",
    "from langchain_openai import ChatOpenAI\n",
    "from langchain_openai import OpenAIEmbeddings\n",
    "from langchain.chains.question_answering import load_qa_chain\n",
    "from langchain_google_genai import ChatGoogleGenerativeAI, GoogleGenerativeAIEmbeddings\n"
   ]
  },
  {
   "cell_type": "code",
   "execution_count": 10,
   "id": "0b6b45b1-87c0-4b55-a810-ac9f751e7a95",
   "metadata": {},
   "outputs": [],
   "source": [
    "chat = ChatGoogleGenerativeAI(model=\"gemini-pro\",convert_system_message_to_human=True)\n",
    "#chat_openai = ChatOpenAI()"
   ]
  },
  {
   "cell_type": "code",
   "execution_count": 11,
   "id": "b9bf94d6-5118-415f-957b-191a4049fc8b",
   "metadata": {},
   "outputs": [],
   "source": [
    "embed_func = GoogleGenerativeAIEmbeddings(model=\"models/embedding-001\")\n",
    "#embed_func = OpenAIEmbeddings()"
   ]
  },
  {
   "cell_type": "code",
   "execution_count": 12,
   "id": "a6e6c5d5-46ec-4fd7-a04d-3a1d4c071ded",
   "metadata": {},
   "outputs": [],
   "source": [
    "loader = PyPDFLoader(\"D:\\Documents\\GenAI_pdf.pdf\")\n",
    "documents = loader.load()"
   ]
  },
  {
   "cell_type": "code",
   "execution_count": 13,
   "id": "e245c89e-d3b3-4060-b170-778068ea963e",
   "metadata": {},
   "outputs": [],
   "source": [
    "text_splitter = RecursiveCharacterTextSplitter(chunk_size=400, chunk_overlap=0)"
   ]
  },
  {
   "cell_type": "code",
   "execution_count": 14,
   "id": "79f3b1df-7ad2-40fb-a18f-1f226e9f62f9",
   "metadata": {},
   "outputs": [],
   "source": [
    "docs = text_splitter.split_documents(documents)"
   ]
  },
  {
   "cell_type": "code",
   "execution_count": 35,
   "id": "1db9343b-71b0-4d22-9097-51070525a5d2",
   "metadata": {
    "tags": []
   },
   "outputs": [
    {
     "data": {
      "text/plain": [
       "245"
      ]
     },
     "execution_count": 35,
     "metadata": {},
     "output_type": "execute_result"
    }
   ],
   "source": [
    "len(docs)"
   ]
  },
  {
   "cell_type": "code",
   "execution_count": 26,
   "id": "23d50785-e7ed-41bf-af19-682e819a5989",
   "metadata": {
    "tags": []
   },
   "outputs": [
    {
     "name": "stdout",
     "output_type": "stream",
     "text": [
      "<class 'list'>\n"
     ]
    }
   ],
   "source": [
    "print(type(docs))"
   ]
  },
  {
   "cell_type": "code",
   "execution_count": 66,
   "id": "222d436a-0cfa-4296-83f4-03ede4bda26d",
   "metadata": {},
   "outputs": [],
   "source": [
    "GenAIPrimerDB = Chroma.from_documents(documents=docs, embedding=embed_func, persist_directory=\"./GenAI_Primer\")\n",
    "GenAIPrimerDB.persist()"
   ]
  },
  {
   "cell_type": "code",
   "execution_count": 67,
   "id": "3f0b80e2-3d77-46db-a855-c3988cd98d6e",
   "metadata": {},
   "outputs": [],
   "source": [
    "#ReportDB = Chroma(embedding_function=embed_func, persist_directory=\"./HAI_Report\")\n",
    "GenAIPrimerDB = Chroma(embedding_function=embed_func, persist_directory=\"./GenAI_Primer\")"
   ]
  },
  {
   "cell_type": "code",
   "execution_count": 29,
   "id": "d9c48891-c0e7-418f-a565-b7b02259fb31",
   "metadata": {},
   "outputs": [],
   "source": [
    "chain = load_qa_chain(llm=chat,chain_type=\"stuff\",verbose=True)"
   ]
  },
  {
   "cell_type": "code",
   "execution_count": null,
   "id": "c2bb9cca-4a1b-4f6c-ae27-738184ef0f37",
   "metadata": {
    "tags": []
   },
   "outputs": [],
   "source": []
  },
  {
   "cell_type": "code",
   "execution_count": null,
   "id": "6d0d718f-7cf8-478b-957e-bdb16fe1ddf6",
   "metadata": {},
   "outputs": [],
   "source": [
    "result = chain.invoke({\"input_documents\":docs, \"question\":\"3 Limitations of Current Generative AI?\"})"
   ]
  },
  {
   "cell_type": "code",
   "execution_count": 57,
   "id": "11e557a8-c9ee-4fad-b5c0-ac802f2e356e",
   "metadata": {
    "tags": []
   },
   "outputs": [],
   "source": [
    "##result = chain.batch({\"input_documents\":docs, 'foo':\"3 Limitations of Current Generative AI?\", 'bar':\"List the Glossary of key concepts in generative A\"})"
   ]
  },
  {
   "cell_type": "code",
   "execution_count": null,
   "id": "67bad92d-50a5-44fb-a925-69a513e974fd",
   "metadata": {
    "tags": []
   },
   "outputs": [],
   "source": [
    "print(result)"
   ]
  },
  {
   "cell_type": "code",
   "execution_count": 50,
   "id": "93757061-5fcb-4d71-a202-9ada2c427f64",
   "metadata": {},
   "outputs": [
    {
     "name": "stdout",
     "output_type": "stream",
     "text": [
      "The four salient boundaries of generative AI systems are:\n",
      "\n",
      "- Incorrect outputs: Generative AI models may produce output with errors, this is because of the inherent nature of machine learning models relying on probabilistic algorithms for making inferences. The model may produce content that is not based on any facts or evidence, but rather on its own assumptions or biases.\n",
      "\n",
      "- Bias and fairness: Societal biases permeate everyday human-generated content. Generative AI systems can amplify these harmful biases and perpetuate stereotypes. Efforts are ongoing in AI research to mitigate bias and promote fairness.\n",
      "\n",
      "- Copyright violation: Generative AI models may cause a violation of copyright laws because they can produce outputs that resemble or even copy existing works without permission or compensation to the original creators. This implicates substantial copyright concerns, especially in the training of the models. \n",
      "\n",
      "- Environmental concerns: Developing and using generative AI systems is computationally expensive and consume large amounts of electricity with immense negative carbon footprints. There are ongoing efforts in AI research to make the development of AI algorithms more carbon-friendly.\n"
     ]
    }
   ],
   "source": [
    "print (result[\"output_text\"])"
   ]
  },
  {
   "cell_type": "code",
   "execution_count": null,
   "id": "c4444600-ad48-4b34-abf4-633aa54580e1",
   "metadata": {
    "tags": []
   },
   "outputs": [],
   "source": []
  },
  {
   "cell_type": "code",
   "execution_count": null,
   "id": "1bc6107b-2123-4978-a5c4-d211ee9e7087",
   "metadata": {},
   "outputs": [],
   "source": [
    "print(result[\"input_documents\"][1].page_content)"
   ]
  },
  {
   "cell_type": "code",
   "execution_count": null,
   "id": "d3c64959-727e-4e6c-9919-5ed9b88eca97",
   "metadata": {},
   "outputs": [],
   "source": [
    "#RetrievalQA"
   ]
  },
  {
   "cell_type": "code",
   "execution_count": 68,
   "id": "019bacca-e4d6-4c9c-97d8-5a1f9944f27f",
   "metadata": {},
   "outputs": [],
   "source": [
    "from langchain.chains import RetrievalQA"
   ]
  },
  {
   "cell_type": "code",
   "execution_count": 69,
   "id": "ebbf3ca1-aa43-4c95-8eba-637b48e06e9d",
   "metadata": {},
   "outputs": [],
   "source": [
    "#retriever = GenAIPrimerDB.as_retriever(search_type =\"similarity\", search_kwargs={'k':2})"
   ]
  },
  {
   "cell_type": "code",
   "execution_count": 70,
   "id": "11605479-56cf-4320-a477-fadc407658a7",
   "metadata": {},
   "outputs": [],
   "source": [
    "retriever = GenAIPrimerDB.as_retriever(search_type =\"similarity\")"
   ]
  },
  {
   "cell_type": "code",
   "execution_count": 71,
   "id": "36126b52-0eee-432f-8247-c80152c0d781",
   "metadata": {},
   "outputs": [],
   "source": [
    "chain = RetrievalQA.from_chain_type(llm=chat, chain_type=\"stuff\",retriever=retriever, return_source_documents=True)"
   ]
  },
  {
   "cell_type": "code",
   "execution_count": 72,
   "id": "112fcc53-79ce-41ef-951d-80787de8a41b",
   "metadata": {},
   "outputs": [],
   "source": [
    "result=chain.invoke(\"Limitations of Current Generative AI?\")"
   ]
  },
  {
   "cell_type": "code",
   "execution_count": 73,
   "id": "34fc17e5-fc28-4480-b06b-6a477603c4e6",
   "metadata": {},
   "outputs": [
    {
     "name": "stdout",
     "output_type": "stream",
     "text": [
      "Based on the provided context, I cannot answer the question about the limitations of current generative AI. The provided text only mentions the existence of limitations but does not specify what they are.\n"
     ]
    }
   ],
   "source": [
    "print(result[\"result\"])"
   ]
  },
  {
   "cell_type": "code",
   "execution_count": null,
   "id": "575ead46-1975-4cb9-afac-052fa37d2afc",
   "metadata": {},
   "outputs": [],
   "source": [
    "#VectorStoreIndexCreator"
   ]
  },
  {
   "cell_type": "code",
   "execution_count": null,
   "id": "4cb80a0d-2c01-4ec9-a410-5a0e045ff182",
   "metadata": {},
   "outputs": [],
   "source": [
    "from langchain.indexes import VectorstoreIndexCreator"
   ]
  },
  {
   "cell_type": "code",
   "execution_count": null,
   "id": "318ca1ac-0b74-4215-915c-5feabec05fa8",
   "metadata": {},
   "outputs": [],
   "source": [
    "index = VectorstoreIndexCreator(text_splitter=text_splitter, embedding=embed_func, vectorstore_cls=Chroma).from_loaders(loaders=[loader])"
   ]
  },
  {
   "cell_type": "code",
   "execution_count": null,
   "id": "0a9655c7-c3b6-485d-8d8b-fd00023a04de",
   "metadata": {},
   "outputs": [],
   "source": [
    "print (index.query (\"What are the Enterprise use cases of Generative AI?\"))"
   ]
  },
  {
   "cell_type": "code",
   "execution_count": null,
   "id": "58b56da5-5da0-4d7b-b604-aeabf075adc1",
   "metadata": {},
   "outputs": [],
   "source": []
  },
  {
   "cell_type": "code",
   "execution_count": null,
   "id": "d05d62ca-07bb-4018-b369-7366d54196be",
   "metadata": {},
   "outputs": [],
   "source": [
    "#ConversationalRetrievalChain\n",
    "from langchain.chains import ConversationalRetrievalChain"
   ]
  },
  {
   "cell_type": "code",
   "execution_count": null,
   "id": "0ad287dc-e311-4c83-afab-dc75695d5255",
   "metadata": {},
   "outputs": [],
   "source": []
  }
 ],
 "metadata": {
  "kernelspec": {
   "display_name": "Python 3 (ipykernel)",
   "language": "python",
   "name": "python3"
  },
  "language_info": {
   "codemirror_mode": {
    "name": "ipython",
    "version": 3
   },
   "file_extension": ".py",
   "mimetype": "text/x-python",
   "name": "python",
   "nbconvert_exporter": "python",
   "pygments_lexer": "ipython3",
   "version": "3.11.5"
  }
 },
 "nbformat": 4,
 "nbformat_minor": 5
}
