{
 "cells": [
  {
   "cell_type": "code",
   "execution_count": null,
   "id": "d70c4e5d-6b13-49cd-9c88-589baf87e898",
   "metadata": {},
   "outputs": [],
   "source": [
    "from langchain_google_genai.chat_models import ChatGoogleGenerativeAI\n",
    "from langchain_core.prompts.chat import (\n",
    "    ChatPromptTemplate,\n",
    "    HumanMessagePromptTemplate,\n",
    ")"
   ]
  },
  {
   "cell_type": "code",
   "execution_count": null,
   "id": "ab5a4cea-8f08-483c-99ce-417c1f07cb62",
   "metadata": {},
   "outputs": [],
   "source": [
    "chat_model = ChatGoogleGenerativeAI(model=\"gemini-pro\", temperature=0)"
   ]
  },
  {
   "cell_type": "code",
   "execution_count": null,
   "id": "af716076-4e12-4a81-987b-0f6f1475f92a",
   "metadata": {},
   "outputs": [],
   "source": [
    "human_message_prompt = HumanMessagePromptTemplate.from_template(\"Make up a funny name for a company that manufacture {product}\")"
   ]
  },
  {
   "cell_type": "code",
   "execution_count": null,
   "id": "e3e9e28d-227d-44b0-bab9-2a350a109ce3",
   "metadata": {},
   "outputs": [],
   "source": [
    "chat_prompt = ChatPromptTemplate.from_messages([human_message_prompt])"
   ]
  },
  {
   "cell_type": "code",
   "execution_count": null,
   "id": "bcde1d6d-171d-424a-8a12-7ad2f9b1ffec",
   "metadata": {},
   "outputs": [],
   "source": [
    "from langchain.chains import LLMChain"
   ]
  },
  {
   "cell_type": "code",
   "execution_count": null,
   "id": "7eef2563-88c8-4a79-924d-c9c663883579",
   "metadata": {},
   "outputs": [],
   "source": [
    "chain_ = LLMChain(llm=chat_model, prompt=chat_prompt)"
   ]
  },
  {
   "cell_type": "code",
   "execution_count": null,
   "id": "6005202b-6543-4156-86ab-fde3bed58334",
   "metadata": {},
   "outputs": [],
   "source": [
    "result = chain_.invoke({\"product\":\"Computers\"})"
   ]
  },
  {
   "cell_type": "code",
   "execution_count": null,
   "id": "f68887c0-8aea-4a22-a82f-c37f10735f42",
   "metadata": {},
   "outputs": [],
   "source": [
    "print (result[\"text\"])"
   ]
  },
  {
   "cell_type": "code",
   "execution_count": null,
   "id": "7a598ec0-b052-41cd-87ba-517932c8e2e6",
   "metadata": {},
   "outputs": [],
   "source": []
  },
  {
   "cell_type": "code",
   "execution_count": null,
   "id": "7f82c864-8554-4fa5-a6b5-b67b2b16bfb5",
   "metadata": {},
   "outputs": [],
   "source": [
    "#Second Example : Simple Sequential Chain\n",
    "\n",
    "# 1. LLMChain => Outline for the blog taking {topic} from the user\n",
    "# 2. LLMChain => Output of (1) as input and then write the complete blog\n",
    "# 3. Simple Sequential Chain to sequence (1) and (2)"
   ]
  },
  {
   "cell_type": "code",
   "execution_count": null,
   "id": "f85bc18b-cf37-433e-b4b6-e7d8dff4fb5a",
   "metadata": {},
   "outputs": [],
   "source": [
    "#chain_one\n",
    "\n",
    "template = \"Give me a simple bullet point outline for a blog post on {topic}\"\n",
    "first_prompt = HumanMessagePromptTemplate.from_template(template=template)\n",
    "first_chat_prompt = ChatPromptTemplate.from_messages([first_prompt])\n",
    "chain_one = LLMChain(llm=chat_model, prompt=first_chat_prompt)"
   ]
  },
  {
   "cell_type": "code",
   "execution_count": null,
   "id": "000c1ca3-97d2-4710-8653-8047005d8489",
   "metadata": {},
   "outputs": [],
   "source": [
    "#chain_two\n",
    "\n",
    "template = \"Write a blog post using the outline {outline}\"\n",
    "second_prompt = HumanMessagePromptTemplate.from_template(template=template)\n",
    "second_chat_prompt = ChatPromptTemplate.from_messages([second_prompt])\n",
    "chain_two = LLMChain(llm=chat_model, prompt=second_chat_prompt)"
   ]
  },
  {
   "cell_type": "code",
   "execution_count": null,
   "id": "fc09c300-ecbf-4af3-b6be-61118ab28094",
   "metadata": {},
   "outputs": [],
   "source": [
    "from langchain.chains import SimpleSequentialChain"
   ]
  },
  {
   "cell_type": "code",
   "execution_count": null,
   "id": "ed4eb68b-4ae7-418b-b535-eb2a78a222e2",
   "metadata": {},
   "outputs": [],
   "source": [
    "full_chain = SimpleSequentialChain(chains=[chain_one, chain_two],verbose=True)"
   ]
  },
  {
   "cell_type": "code",
   "execution_count": null,
   "id": "567ac6c6-5365-4ddb-9154-182200442eec",
   "metadata": {
    "tags": []
   },
   "outputs": [],
   "source": [
    "chain_two"
   ]
  },
  {
   "cell_type": "code",
   "execution_count": null,
   "id": "70acf832-59c7-4158-ba08-33da333e35f4",
   "metadata": {},
   "outputs": [],
   "source": [
    "result = full_chain.invoke(\"Generative AI\")"
   ]
  },
  {
   "cell_type": "code",
   "execution_count": null,
   "id": "1f15a769-e58e-45db-a6d8-ffa0d8f51b36",
   "metadata": {},
   "outputs": [],
   "source": [
    "print(result)"
   ]
  },
  {
   "cell_type": "code",
   "execution_count": null,
   "id": "3b64b33f-2286-40b3-9a18-aafa11a97530",
   "metadata": {},
   "outputs": [],
   "source": [
    "print(result[\"output\"])"
   ]
  },
  {
   "cell_type": "code",
   "execution_count": null,
   "id": "2af9ee95-83cb-4f44-8dcd-156f7ff21279",
   "metadata": {},
   "outputs": [],
   "source": []
  },
  {
   "cell_type": "code",
   "execution_count": null,
   "id": "7d6f953d-40f6-4ecb-8c75-223b9c245b27",
   "metadata": {},
   "outputs": [],
   "source": [
    "##Third Example : Sequential Chain\n",
    "Ex: Performance Review Text -> Review Summary (Strengths & Weaknesses) -> Improvement Plan to address those weaknesses \n",
    "# 1. LLMChain => Outline for the blog taking {text} from the user\n",
    "# 2. LLMChain => Output of (1) as input and then write the complete blog\n",
    "# 3. LLMChain => Output of (3) as input and then write the complete blog\n",
    "# 3. Sequential Chain to sequence (1),(2) and (3)"
   ]
  },
  {
   "cell_type": "code",
   "execution_count": null,
   "id": "ace26334-5fcb-4fc5-8365-0fd7b3159f7c",
   "metadata": {},
   "outputs": [],
   "source": [
    "from langchain.chains import SequentialChain"
   ]
  },
  {
   "cell_type": "code",
   "execution_count": null,
   "id": "aba345ad-5fc2-4e47-84de-c446e9baffe8",
   "metadata": {},
   "outputs": [],
   "source": [
    "template1 = \"Give a summary of employee's performance review : \\n {review_text}\" \n",
    "prompt1 = HumanMessagePromptTemplate.from_template(template=template1)\n",
    "chat_prompt1 = ChatPromptTemplate.from_messages([prompt1])\n",
    "chain1 = LLMChain(llm=chat_model, prompt=chat_prompt1, output_key=\"review_summary\")"
   ]
  },
  {
   "cell_type": "code",
   "execution_count": null,
   "id": "4fbd2c09-d867-4559-8e5d-421677ed4041",
   "metadata": {},
   "outputs": [],
   "source": [
    "template2 = \"Identify key weaknesses of the employee from this review summary: \\n{review_summary}\" \n",
    "prompt2 = HumanMessagePromptTemplate.from_template(template=template2)\n",
    "chat_prompt2 = ChatPromptTemplate.from_messages([prompt2])\n",
    "chain2 = LLMChain(llm=chat_model, prompt=chat_prompt2, output_key=\"weaknesses\")"
   ]
  },
  {
   "cell_type": "code",
   "execution_count": null,
   "id": "331697c6-7a32-4119-be5e-1cd38448d3c2",
   "metadata": {},
   "outputs": [],
   "source": [
    "template3 = \"Create a personalized improvement plan to address the weaknesses: \\n{weaknesses}\" \n",
    "prompt3 = HumanMessagePromptTemplate.from_template(template=template3)\n",
    "chat_prompt3 = ChatPromptTemplate.from_messages([prompt3])\n",
    "chain3 = LLMChain(llm=chat_model, prompt=chat_prompt3, output_key=\"improvement_plan\")"
   ]
  },
  {
   "cell_type": "code",
   "execution_count": null,
   "id": "d8d1d091-c0fd-4844-8e68-b60eed833329",
   "metadata": {},
   "outputs": [],
   "source": [
    "chain = SequentialChain(chains=[chain1,chain2,chain3],\n",
    "                        input_variables=[\"review_text\"],\n",
    "                        output_variables=[\"review_summary\",\"weaknesses\",\"improvement_plan\"],\n",
    "                        verbose = True)"
   ]
  },
  {
   "cell_type": "code",
   "execution_count": null,
   "id": "d47c3b36-3e2a-4010-9e38-0cd8e9445b0d",
   "metadata": {},
   "outputs": [],
   "source": [
    "review_text = \"\"\"\n",
    "Employee Information:\n",
    "Name: Joe Schmo\n",
    "Position: Software Engineer\n",
    "Date of Review: July 14, 2023\n",
    "\n",
    "Strengths:\n",
    "Joe is a highly skilled software engineer with a deep understanding of programming languages, algorithms, and software development best practices. His technical expertise shines through in his ability to efficiently solve complex problems and deliver high-quality code.\n",
    "\n",
    "One of Joe's greatest strengths is his collaborative nature. He actively engages with cross-functional teams, contributing valuable insights and seeking input from others. His open-mindedness and willingness to learn from colleagues make him a true team player.\n",
    "\n",
    "Joe consistently demonstrates initiative and self-motivation. He takes the lead in seeking out new projects and challenges, and his proactive attitude has led to significant improvements in existing processes and systems. His dedication to self-improvement and growth is commendable.\n",
    "\n",
    "Another notable strength is Joe's adaptability. He has shown great flexibility in handling changing project requirements and learning new technologies. This adaptability allows him to seamlessly transition between different projects and tasks, making him a valuable asset to the team.\n",
    "\n",
    "Joe's problem-solving skills are exceptional. He approaches issues with a logical mindset and consistently finds effective solutions, often thinking outside the box. His ability to break down complex problems into manageable parts is key to his success in resolving issues efficiently.\n",
    "\n",
    "Weaknesses:\n",
    "While Joe possesses numerous strengths, there are a few areas where he could benefit from improvement. One such area is time management. Occasionally, Joe struggles with effectively managing his time, resulting in missed deadlines or the need for additional support to complete tasks on time. Developing better prioritization and time management techniques would greatly enhance his efficiency.\n",
    "\n",
    "Another area for improvement is Joe's written communication skills. While he communicates well verbally, there have been instances where his written documentation lacked clarity, leading to confusion among team members. Focusing on enhancing his written communication abilities will help him effectively convey ideas and instructions.\n",
    "\n",
    "Additionally, Joe tends to take on too many responsibilities and hesitates to delegate tasks to others. This can result in an excessive workload and potential burnout. Encouraging him to delegate tasks appropriately will not only alleviate his own workload but also foster a more balanced and productive team environment.\n",
    "\"\"\""
   ]
  },
  {
   "cell_type": "code",
   "execution_count": null,
   "id": "0afc3401-87b9-4e8f-b094-aed0f1e5660f",
   "metadata": {
    "tags": []
   },
   "outputs": [],
   "source": [
    "result = chain.invoke(review_text)"
   ]
  },
  {
   "cell_type": "code",
   "execution_count": null,
   "id": "b2d54114-0a74-445e-a445-64ced34b4f71",
   "metadata": {
    "tags": []
   },
   "outputs": [],
   "source": [
    "print(result)"
   ]
  },
  {
   "cell_type": "code",
   "execution_count": null,
   "id": "cf27fdb2-e812-4524-81ac-72b2ca3275ba",
   "metadata": {},
   "outputs": [],
   "source": [
    "print (result[\"review_text\"])"
   ]
  },
  {
   "cell_type": "code",
   "execution_count": null,
   "id": "e2383a31-cdcd-4e83-8948-6648cf24304f",
   "metadata": {},
   "outputs": [],
   "source": [
    "print(result[\"review_summary\"])"
   ]
  },
  {
   "cell_type": "code",
   "execution_count": null,
   "id": "3180796c-7db9-424d-94db-a565cb9174a8",
   "metadata": {},
   "outputs": [],
   "source": [
    "print (result[\"weaknesses\"])"
   ]
  },
  {
   "cell_type": "code",
   "execution_count": null,
   "id": "7105ae50-849b-42a1-bd4a-3bc82cc55399",
   "metadata": {},
   "outputs": [],
   "source": [
    "print (result[\"improvement_plan\"])"
   ]
  },
  {
   "cell_type": "code",
   "execution_count": null,
   "id": "4f9f2d62-7afb-4800-af5a-324485645704",
   "metadata": {},
   "outputs": [],
   "source": []
  },
  {
   "cell_type": "code",
   "execution_count": null,
   "id": "4ba10021-b781-4f1a-8c1a-320ff0b5a0fd",
   "metadata": {},
   "outputs": [],
   "source": []
  },
  {
   "cell_type": "code",
   "execution_count": null,
   "id": "4d8db250-2b4e-437a-b786-63750842fe0c",
   "metadata": {},
   "outputs": [],
   "source": []
  },
  {
   "cell_type": "code",
   "execution_count": null,
   "id": "366deb42-fa53-46f5-8e48-8608be527d16",
   "metadata": {},
   "outputs": [],
   "source": []
  },
  {
   "cell_type": "code",
   "execution_count": null,
   "id": "ffecfc02-b87a-4459-9f33-fcc9e7daa55f",
   "metadata": {},
   "outputs": [],
   "source": []
  }
 ],
 "metadata": {
  "kernelspec": {
   "display_name": "Python 3 (ipykernel)",
   "language": "python",
   "name": "python3"
  },
  "language_info": {
   "codemirror_mode": {
    "name": "ipython",
    "version": 3
   },
   "file_extension": ".py",
   "mimetype": "text/x-python",
   "name": "python",
   "nbconvert_exporter": "python",
   "pygments_lexer": "ipython3",
   "version": "3.11.5"
  }
 },
 "nbformat": 4,
 "nbformat_minor": 5
}
