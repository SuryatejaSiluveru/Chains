{
 "cells": [
  {
   "cell_type": "code",
   "execution_count": null,
   "id": "66351e05-8286-4e8c-ad7e-37fec748c547",
   "metadata": {},
   "outputs": [],
   "source": [
    "#RouterChain\n",
    "#RouterChain: Allows conditionally routing between different chains based on logic. Enables branching logic."
   ]
  },
  {
   "cell_type": "code",
   "execution_count": null,
   "id": "3920a40e-2b07-4521-85a7-747b0bad6335",
   "metadata": {},
   "outputs": [],
   "source": [
    "# Question (physics) -> RouterChain -> Which Chain to go (destination chains) - > One of the destination will execute -> Output\n",
    "# Question : How do magnets work?\n",
    "# Question : How atomic energy work?"
   ]
  },
  {
   "cell_type": "code",
   "execution_count": 1,
   "id": "c29a3955-204a-4541-b58f-743a1c9dcf3f",
   "metadata": {
    "tags": []
   },
   "outputs": [],
   "source": [
    "beginner_template ='''\n",
    "You are a physics teacher who is an expert in explaining complex subject to beginners.\n",
    "You assume no prior knowledge.\n",
    "Here is the question: \\n {input}\n",
    "'''\n",
    "advanced_template ='''\n",
    "You are a physics teacher who is an expert in explaining subject to research students.\n",
    "Here is the question: \\n {input}\n",
    "'''\n",
    "empty_template = \"empty\""
   ]
  },
  {
   "cell_type": "code",
   "execution_count": 2,
   "id": "a228411a-2225-40fb-81fb-5996c952df50",
   "metadata": {
    "tags": []
   },
   "outputs": [],
   "source": [
    "prompt_infos = [\n",
    "    {\n",
    "        \"name\": \"beginner physics\",\n",
    "        \"description\":\"Responds to beginner physics questions\",\n",
    "        \"prompt_template\":beginner_template\n",
    "    },\n",
    "    {\n",
    "        \"name\": \"advanced physics\",\n",
    "        \"description\":\"Responds to advanced physics questions\",\n",
    "        \"prompt_template\":advanced_template\n",
    "    },\n",
    "    {\n",
    "        \"name\": \"empty\",\n",
    "        \"description\":\"replies to empty questions\",\n",
    "        \"prompt_template\":empty_template\n",
    "    }\n",
    "  \n",
    "]"
   ]
  },
  {
   "cell_type": "code",
   "execution_count": 3,
   "id": "74d87b51-34f5-4b6e-a418-d193f488f009",
   "metadata": {
    "tags": []
   },
   "outputs": [],
   "source": [
    "from langchain_google_genai import ChatGoogleGenerativeAI\n",
    "from langchain.chains import LLMChain\n",
    "from langchain_core.prompts import ChatPromptTemplate\n",
    "llm = ChatGoogleGenerativeAI(model = \"gemini-pro\")"
   ]
  },
  {
   "cell_type": "code",
   "execution_count": 4,
   "id": "62d009fd-431c-4f76-ac0c-f42afa0b9d32",
   "metadata": {
    "tags": []
   },
   "outputs": [],
   "source": [
    "#Build Destination Chains\n",
    "destination_chains = {}\n",
    "for p_info in prompt_infos:\n",
    "    name = p_info[\"name\"]\n",
    "    template = p_info[\"prompt_template\"]\n",
    "    chat_prompt = ChatPromptTemplate.from_template(template=template)\n",
    "    chain = LLMChain(llm=llm, prompt=chat_prompt)\n",
    "    destination_chains[name]=chain"
   ]
  },
  {
   "cell_type": "code",
   "execution_count": 5,
   "id": "040dd305-c0a6-45d3-8221-33f9ed20dbf0",
   "metadata": {
    "tags": []
   },
   "outputs": [
    {
     "data": {
      "text/plain": [
       "LLMChain(prompt=ChatPromptTemplate(input_variables=['input'], messages=[HumanMessagePromptTemplate(prompt=PromptTemplate(input_variables=['input'], template='\\nYou are a physics teacher who is an expert in explaining complex subject to beginners.\\nYou assume no prior knowledge.\\nHere is the question: \\n {input}\\n'))]), llm=ChatGoogleGenerativeAI(model='gemini-pro', client= genai.GenerativeModel(\n",
       "   model_name='models/gemini-pro',\n",
       "   generation_config={}.\n",
       "   safety_settings={}\n",
       ")))"
      ]
     },
     "execution_count": 5,
     "metadata": {},
     "output_type": "execute_result"
    }
   ],
   "source": [
    "destination_chains[\"beginner physics\"]"
   ]
  },
  {
   "cell_type": "code",
   "execution_count": 6,
   "id": "8432c73e-498c-41af-a43d-68fb1e645fb5",
   "metadata": {
    "tags": []
   },
   "outputs": [
    {
     "data": {
      "text/plain": [
       "LLMChain(prompt=ChatPromptTemplate(input_variables=['input'], messages=[HumanMessagePromptTemplate(prompt=PromptTemplate(input_variables=['input'], template='\\nYou are a physics teacher who is an expert in explaining subject to research students.\\nHere is the question: \\n {input}\\n'))]), llm=ChatGoogleGenerativeAI(model='gemini-pro', client= genai.GenerativeModel(\n",
       "   model_name='models/gemini-pro',\n",
       "   generation_config={}.\n",
       "   safety_settings={}\n",
       ")))"
      ]
     },
     "execution_count": 6,
     "metadata": {},
     "output_type": "execute_result"
    }
   ],
   "source": [
    "destination_chains[\"advanced physics\"]"
   ]
  },
  {
   "cell_type": "code",
   "execution_count": null,
   "id": "675dfe90-324e-474d-b394-81beb74f6540",
   "metadata": {},
   "outputs": [],
   "source": []
  },
  {
   "cell_type": "code",
   "execution_count": 7,
   "id": "cbc4bf8b-a1de-4112-9b1a-029c928bdf2a",
   "metadata": {
    "tags": []
   },
   "outputs": [],
   "source": [
    "#Default Chain\n",
    "default_prompt = ChatPromptTemplate.from_template(template='{input}')\n",
    "default_chain = LLMChain(llm=llm, prompt=default_prompt)"
   ]
  },
  {
   "cell_type": "code",
   "execution_count": 8,
   "id": "d0b7983d-6755-450d-8e20-829cc99fc5bf",
   "metadata": {
    "tags": []
   },
   "outputs": [
    {
     "data": {
      "text/plain": [
       "ChatPromptTemplate(input_variables=['input'], messages=[HumanMessagePromptTemplate(prompt=PromptTemplate(input_variables=['input'], template='{input}'))])"
      ]
     },
     "execution_count": 8,
     "metadata": {},
     "output_type": "execute_result"
    }
   ],
   "source": [
    "default_prompt"
   ]
  },
  {
   "cell_type": "code",
   "execution_count": 9,
   "id": "1ca3065e-6110-4f70-8216-42dd1dde063d",
   "metadata": {
    "tags": []
   },
   "outputs": [
    {
     "data": {
      "text/plain": [
       "LLMChain(prompt=ChatPromptTemplate(input_variables=['input'], messages=[HumanMessagePromptTemplate(prompt=PromptTemplate(input_variables=['input'], template='{input}'))]), llm=ChatGoogleGenerativeAI(model='gemini-pro', client= genai.GenerativeModel(\n",
       "   model_name='models/gemini-pro',\n",
       "   generation_config={}.\n",
       "   safety_settings={}\n",
       ")))"
      ]
     },
     "execution_count": 9,
     "metadata": {},
     "output_type": "execute_result"
    }
   ],
   "source": [
    "default_chain"
   ]
  },
  {
   "cell_type": "code",
   "execution_count": 51,
   "id": "41559ece-6aeb-4dfe-8138-bbdd85fcb986",
   "metadata": {
    "tags": []
   },
   "outputs": [],
   "source": [
    "from langchain.chains.router import MultiRouteChain\n",
    "from langchain.chains.router.llm_router import LLMRouterChain, RouterOutputParser\n",
    "from langchain_core.prompts import PromptTemplate\n",
    "from langchain.chains.router.multi_prompt_prompt import MULTI_PROMPT_ROUTER_TEMPLATE"
   ]
  },
  {
   "cell_type": "code",
   "execution_count": 52,
   "id": "f942a192-ec05-4542-9395-e76d970e37b2",
   "metadata": {
    "tags": []
   },
   "outputs": [
    {
     "name": "stdout",
     "output_type": "stream",
     "text": [
      "Given a raw text input to a language model select the model prompt best suited for the input. You will be given the names of the available prompts and a description of what the prompt is best suited for. You may also revise the original input if you think that revising it will ultimately lead to a better response from the language model.\n",
      "\n",
      "<< FORMATTING >>\n",
      "Return a markdown code snippet with a JSON object formatted to look like:\n",
      "```json\n",
      "{{{{\n",
      "    \"destination\": string \\ name of the prompt to use or \"DEFAULT\"\n",
      "    \"next_inputs\": string \\ a potentially modified version of the original input\n",
      "}}}}\n",
      "```\n",
      "\n",
      "REMEMBER: \"destination\" MUST be one of the candidate prompt names specified below OR it can be \"DEFAULT\" if the input is not well suited for any of the candidate prompts.\n",
      "REMEMBER: \"next_inputs\" can just be the original input if you don't think any modifications are needed.\n",
      "\n",
      "<< CANDIDATE PROMPTS >>\n",
      "{destinations}\n",
      "\n",
      "<< INPUT >>\n",
      "{{input}}\n",
      "\n",
      "<< OUTPUT (must include ```json at the start of the response) >>\n",
      "<< OUTPUT (must end with ```) >>\n",
      "\n"
     ]
    }
   ],
   "source": [
    "print(MULTI_PROMPT_ROUTER_TEMPLATE)"
   ]
  },
  {
   "cell_type": "code",
   "execution_count": 53,
   "id": "26ad34ef-5682-4e5d-911d-9b1db80410d7",
   "metadata": {},
   "outputs": [],
   "source": [
    "#Routing Destinations\n",
    "\n",
    "destinations = [f\"{p['name']}:{p['description']}\" for p in prompt_infos]"
   ]
  },
  {
   "cell_type": "code",
   "execution_count": 54,
   "id": "f5add6ab-bfb9-40bd-8bcc-418357b4f05f",
   "metadata": {
    "tags": []
   },
   "outputs": [
    {
     "data": {
      "text/plain": [
       "['beginner physics:Responds to beginner physics questions',\n",
       " 'advanced physics:Responds to advanced physics questions',\n",
       " 'empty:replies to empty questions']"
      ]
     },
     "execution_count": 54,
     "metadata": {},
     "output_type": "execute_result"
    }
   ],
   "source": [
    "destinations"
   ]
  },
  {
   "cell_type": "code",
   "execution_count": 55,
   "id": "94fcb544-06f0-4e63-ae11-189dd1a41bc1",
   "metadata": {
    "tags": []
   },
   "outputs": [
    {
     "data": {
      "text/plain": [
       "'beginner physics:Responds to beginner physics questions'"
      ]
     },
     "execution_count": 55,
     "metadata": {},
     "output_type": "execute_result"
    }
   ],
   "source": [
    "destinations[0]"
   ]
  },
  {
   "cell_type": "code",
   "execution_count": 56,
   "id": "200d2b62-5a3d-47cd-9257-5f8d2e917e35",
   "metadata": {},
   "outputs": [],
   "source": [
    "destination_str = '\\n'.join(destinations)"
   ]
  },
  {
   "cell_type": "code",
   "execution_count": 57,
   "id": "2b0cf3f3-251c-4b99-af91-f2beac54d1fb",
   "metadata": {
    "tags": []
   },
   "outputs": [
    {
     "name": "stdout",
     "output_type": "stream",
     "text": [
      "beginner physics:Responds to beginner physics questions\n",
      "advanced physics:Responds to advanced physics questions\n",
      "empty:replies to empty questions\n"
     ]
    }
   ],
   "source": [
    "print(destination_str)"
   ]
  },
  {
   "cell_type": "code",
   "execution_count": 76,
   "id": "d9c57063-5daf-4fde-96bf-8151baa04466",
   "metadata": {
    "tags": []
   },
   "outputs": [],
   "source": [
    "router_template = MULTI_PROMPT_ROUTER_TEMPLATE.format(destinations=destination_str)\n",
    "router_prompt = PromptTemplate(template=router_template,\n",
    "                              input_variables=[\"input\"],\n",
    "                              output_parser=RouterOutputParser())\n",
    "router_chain = LLMRouterChain.from_llm(llm=llm, prompt=router_prompt)"
   ]
  },
  {
   "cell_type": "code",
   "execution_count": 77,
   "id": "518282e9-eb7e-4048-95b4-c5ecaae754a2",
   "metadata": {
    "tags": []
   },
   "outputs": [
    {
     "name": "stdout",
     "output_type": "stream",
     "text": [
      "Given a raw text input to a language model select the model prompt best suited for the input. You will be given the names of the available prompts and a description of what the prompt is best suited for. You may also revise the original input if you think that revising it will ultimately lead to a better response from the language model.\n",
      "\n",
      "<< FORMATTING >>\n",
      "Return a markdown code snippet with a JSON object formatted to look like:\n",
      "```json\n",
      "{{\n",
      "    \"destination\": string \\ name of the prompt to use or \"DEFAULT\"\n",
      "    \"next_inputs\": string \\ a potentially modified version of the original input\n",
      "}}\n",
      "```\n",
      "\n",
      "REMEMBER: \"destination\" MUST be one of the candidate prompt names specified below OR it can be \"DEFAULT\" if the input is not well suited for any of the candidate prompts.\n",
      "REMEMBER: \"next_inputs\" can just be the original input if you don't think any modifications are needed.\n",
      "\n",
      "<< CANDIDATE PROMPTS >>\n",
      "beginner physics:Responds to beginner physics questions\n",
      "advanced physics:Responds to advanced physics questions\n",
      "empty:replies to empty questions\n",
      "\n",
      "<< INPUT >>\n",
      "{input}\n",
      "\n",
      "<< OUTPUT (must include ```json at the start of the response) >>\n",
      "<< OUTPUT (must end with ```) >>\n",
      "\n"
     ]
    }
   ],
   "source": [
    "print(router_template)"
   ]
  },
  {
   "cell_type": "raw",
   "id": "5bcc5f4e-ec53-4e85-a885-95b846dbaa0c",
   "metadata": {},
   "source": [
    "router_chain"
   ]
  },
  {
   "cell_type": "code",
   "execution_count": 89,
   "id": "2aea2208-1691-4d57-be88-29487a062eee",
   "metadata": {},
   "outputs": [],
   "source": [
    "chain = MultiRouteChain(router_chain=router_chain, destination_chains=destination_chains,default_chain=default_chain, verbose=True)"
   ]
  },
  {
   "cell_type": "code",
   "execution_count": 98,
   "id": "9f060426-3551-4a32-bd93-63a538d637ab",
   "metadata": {},
   "outputs": [
    {
     "name": "stdout",
     "output_type": "stream",
     "text": [
      "\n",
      "\n",
      "\u001b[1m> Entering new MultiRouteChain chain...\u001b[0m\n"
     ]
    },
    {
     "name": "stderr",
     "output_type": "stream",
     "text": [
      "C:\\Users\\surya\\AppData\\Roaming\\Python\\Python311\\site-packages\\langchain\\chains\\llm.py:316: UserWarning: The predict_and_parse method is deprecated, instead pass an output parser directly to LLMChain.\n",
      "  warnings.warn(\n"
     ]
    },
    {
     "name": "stdout",
     "output_type": "stream",
     "text": [
      "advanced physics: {'input': \"Explain in detail the relativistic Doppler effect and its implications for observations in astrophysics and cosmology. How does it impact the observed properties of astronomical objects, such as galaxies and quasars, and how can we use this effect to study the universe's expansion and the properties of distant objects?\"}\n",
      "\u001b[1m> Finished chain.\u001b[0m\n"
     ]
    }
   ],
   "source": [
    "result = chain.invoke(\" Explain in detail the relativistic Doppler effect and its implications for observations in astrophysics and cosmology. How does it impact the observed properties of astronomical objects, such as galaxies and quasars, and how can we use this effect to study the universe's expansion and the properties of distant objects?\")"
   ]
  },
  {
   "cell_type": "code",
   "execution_count": 100,
   "id": "e8da16bc-c72b-49fb-a8a1-ef885dfb1c65",
   "metadata": {
    "tags": []
   },
   "outputs": [
    {
     "name": "stdout",
     "output_type": "stream",
     "text": [
      "\n",
      "\n",
      "\u001b[1m> Entering new MultiRouteChain chain...\u001b[0m\n"
     ]
    },
    {
     "name": "stderr",
     "output_type": "stream",
     "text": [
      "C:\\Users\\surya\\AppData\\Roaming\\Python\\Python311\\site-packages\\langchain\\chains\\llm.py:316: UserWarning: The predict_and_parse method is deprecated, instead pass an output parser directly to LLMChain.\n",
      "  warnings.warn(\n"
     ]
    },
    {
     "name": "stdout",
     "output_type": "stream",
     "text": [
      "beginner physics: {'input': '\\ufeff What is the force that pulls objects towards the center of the Earth?'}\n",
      "\u001b[1m> Finished chain.\u001b[0m\n"
     ]
    }
   ],
   "source": [
    "result1 = chain.invoke(\"﻿ What is the force that pulls objects towards the center of the Earth?\")"
   ]
  },
  {
   "cell_type": "code",
   "execution_count": 101,
   "id": "5f502a6a-3f71-4f28-bd00-3068d7a21501",
   "metadata": {
    "tags": []
   },
   "outputs": [
    {
     "name": "stdout",
     "output_type": "stream",
     "text": [
      "\n",
      "\n",
      "\u001b[1m> Entering new MultiRouteChain chain...\u001b[0m\n"
     ]
    },
    {
     "name": "stderr",
     "output_type": "stream",
     "text": [
      "C:\\Users\\surya\\AppData\\Roaming\\Python\\Python311\\site-packages\\langchain\\chains\\llm.py:316: UserWarning: The predict_and_parse method is deprecated, instead pass an output parser directly to LLMChain.\n",
      "  warnings.warn(\n"
     ]
    },
    {
     "name": "stdout",
     "output_type": "stream",
     "text": [
      "None: {'input': 'what is the name of the prime minister of india'}\n",
      "\u001b[1m> Finished chain.\u001b[0m\n"
     ]
    }
   ],
   "source": [
    "result2 = chain.invoke(\"who is the prime minister of india\")"
   ]
  },
  {
   "cell_type": "code",
   "execution_count": 102,
   "id": "05ed2b61-6801-4f03-85ae-483dff402f25",
   "metadata": {},
   "outputs": [
    {
     "name": "stdout",
     "output_type": "stream",
     "text": [
      " pulls Cochrane health 33\n"
     ]
    }
   ],
   "source": [
    "print (result[\"text\"])"
   ]
  },
  {
   "cell_type": "code",
   "execution_count": 104,
   "id": "7b48fc69-f4ea-4532-87c5-941539edba2a",
   "metadata": {
    "tags": []
   },
   "outputs": [
    {
     "name": "stdout",
     "output_type": "stream",
     "text": [
      "**Force of Gravity:**\n",
      "\n",
      "* Gravity is the force that pulls objects towards the center of the Earth.\n",
      "* It is what keeps us on the ground, and it is what makes objects fall when we drop them.\n",
      "* Gravity is a universal force, meaning that it affects all objects with mass.\n",
      "* The more mass an object has, the greater its gravitational pull.\n",
      "\n",
      "**Explanation:**\n",
      "\n",
      "* Imagine that the Earth is a giant magnet.\n",
      "* Just like a magnet pulls metal objects towards it, the Earth's gravity pulls all objects towards its center.\n",
      "* The force of gravity is proportional to the mass of the objects involved.\n",
      "* This means that the more massive an object is, the stronger its gravitational pull.\n",
      "* This is why a bowling ball falls to the ground faster than a feather.\n",
      "* The bowling ball has more mass, so it experiences a stronger gravitational pull than the feather.\n",
      "\n",
      "**Why is Gravity Important?**\n",
      "\n",
      "* Gravity is one of the fundamental forces in the universe.\n",
      "* It is responsible for keeping the planets in orbit around the Sun and the Sun in orbit around the center of the Milky Way galaxy.\n",
      "* It is also responsible for the tides on Earth.\n",
      "* Gravity is a mysterious force that scientists are still trying to understand.\n",
      "* However, we know that it is a very important force that plays a vital role in our everyday lives.\n"
     ]
    }
   ],
   "source": [
    "print(result1[\"text\"])"
   ]
  },
  {
   "cell_type": "code",
   "execution_count": 106,
   "id": "9e27dbd1-ad8c-4317-a258-9c23b09d17e5",
   "metadata": {},
   "outputs": [
    {
     "name": "stdout",
     "output_type": "stream",
     "text": [
      "Narendra Modi\n"
     ]
    }
   ],
   "source": [
    "print(result2[\"text\"])"
   ]
  },
  {
   "cell_type": "code",
   "execution_count": null,
   "id": "2151c691-4505-4d84-8434-dbafc84291ea",
   "metadata": {},
   "outputs": [],
   "source": []
  },
  {
   "cell_type": "code",
   "execution_count": null,
   "id": "8ff7c887-5611-405e-a35e-ece778fb82a0",
   "metadata": {},
   "outputs": [],
   "source": []
  }
 ],
 "metadata": {
  "kernelspec": {
   "display_name": "Python 3 (ipykernel)",
   "language": "python",
   "name": "python3"
  },
  "language_info": {
   "codemirror_mode": {
    "name": "ipython",
    "version": 3
   },
   "file_extension": ".py",
   "mimetype": "text/x-python",
   "name": "python",
   "nbconvert_exporter": "python",
   "pygments_lexer": "ipython3",
   "version": "3.11.5"
  }
 },
 "nbformat": 4,
 "nbformat_minor": 5
}
