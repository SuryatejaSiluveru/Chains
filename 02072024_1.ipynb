{
 "cells": [
  {
   "cell_type": "code",
   "execution_count": null,
   "id": "a1f10061-f341-44d9-9668-b58fd0e40ab0",
   "metadata": {},
   "outputs": [],
   "source": [
    "# Transform Chain\n",
    "# TransformChain: Applies a data transformation between chains. Helpful for data munging and preprocessing.\n",
    "# Notes:\n",
    "# Transformation Chains allows you to define custom data transformation logic as a step in your LangChain pipeline. \n",
    "# This is useful when you must preprocess or transform data before passing it to the next step."
   ]
  },
  {
   "cell_type": "code",
   "execution_count": 39,
   "id": "d7b272e2-643c-4902-bf3e-e4c46b0c76a5",
   "metadata": {
    "tags": []
   },
   "outputs": [],
   "source": [
    "from langchain.chains import TransformChain, LLMChain, SimpleSequentialChain\n",
    "from langchain_google_genai import ChatGoogleGenerativeAI\n",
    "from langchain_core.prompts import ChatPromptTemplate"
   ]
  },
  {
   "cell_type": "code",
   "execution_count": 40,
   "id": "5847ad87-51b7-433a-969b-280796201910",
   "metadata": {
    "tags": []
   },
   "outputs": [],
   "source": [
    "chat = ChatGoogleGenerativeAI(model=\"gemini-pro\")"
   ]
  },
  {
   "cell_type": "code",
   "execution_count": 41,
   "id": "4b2c2760-96b7-4bca-9148-980a70f2b3dc",
   "metadata": {
    "tags": []
   },
   "outputs": [],
   "source": [
    "my_review = open(r\"D:\\Documents\\notepad_files\\LangChain_introduction.txt\").read()"
   ]
  },
  {
   "cell_type": "code",
   "execution_count": 42,
   "id": "d297abaf-b3c6-481b-b8bf-44d99ebf00e0",
   "metadata": {
    "tags": []
   },
   "outputs": [],
   "source": [
    "only_review_text = my_review.split(\"Applications of LangChain:\")[-1]"
   ]
  },
  {
   "cell_type": "code",
   "execution_count": 43,
   "id": "06556fd6-6c4b-4e6b-b433-f7ad444245fd",
   "metadata": {
    "tags": []
   },
   "outputs": [
    {
     "data": {
      "text/plain": [
       "str"
      ]
     },
     "execution_count": 43,
     "metadata": {},
     "output_type": "execute_result"
    }
   ],
   "source": [
    "type(my_review)"
   ]
  },
  {
   "cell_type": "code",
   "execution_count": 44,
   "id": "7ecd9113-c5e1-4e63-9614-adf601c0ee8e",
   "metadata": {
    "tags": []
   },
   "outputs": [
    {
     "data": {
      "text/plain": [
       "str"
      ]
     },
     "execution_count": 44,
     "metadata": {},
     "output_type": "execute_result"
    }
   ],
   "source": [
    "type(only_review_text)"
   ]
  },
  {
   "cell_type": "code",
   "execution_count": 45,
   "id": "f8617c99-1d7d-4457-b5e9-ccc0907772e6",
   "metadata": {
    "tags": []
   },
   "outputs": [
    {
     "name": "stdout",
     "output_type": "stream",
     "text": [
      "\n",
      "\n",
      "LangChain is a powerful tool that can be used to build a wide range of LLM-powered applications.It is simple to use and has a large user and contributor community.\n",
      "\n",
      "1. Document analysis and summarization\n",
      "2. Chatbots: LangChain can be used to build chatbots that interact with users naturally. For example, LangChain can be used to build a chatbot that can answer client questions, provide customer assistance, and even arrange appointments.\n",
      "3. Code analysis: LangChain can be used to analyse code and find potential bugs or security flaws.\n",
      "Answering questions using sources: LangChain can be used to answer questions using a variety of sources, including text, code, and data. For example, LangChain can be used to answer questions about a specific topic by searching through a variety of sources, such as Wikipedia, news articles, and code repositories.\n",
      "4. Data augmentation: LangChain can be used to augment data by generating new data that is similar to existing data. For example, LangChain can be used to generate new text data that is similar to existing text data. This can be useful for training machine learning models or for creating new datasets.\n",
      "5. Text classification: LangChain can be used for text classifications and sentiment analysis with the text input data\n",
      "6. Text summarization: LangChain can be used to summarize the text in the specified number of words or sentences.\n",
      "7. Machine translation: LangChain can be used to translate the input text data into different languages.\n",
      "\n",
      "The main properties of the LangChain network:\n",
      "\n",
      "1. Components: Components are modular building blocks that are ready and easy to use to build powerful applications. Components include LLM Wrappers, Prompt Template and Indexes for relevant information retrieval.\n",
      "2. Chains: Chains allow us to combine multiple components together to solve a specific task. Chains make it easy for the implementation of complex applications by making it more modular and simple to debug and maintain.\n",
      "3. Agents: Agents allow LLMs to interact with their environment. For example, using an external API to perform a specific action.\n",
      "\n",
      "\n",
      "\n",
      "\n",
      "\n",
      "\n",
      "\n",
      "\n",
      "\n",
      "\n",
      "\n"
     ]
    }
   ],
   "source": [
    "print (only_review_text)"
   ]
  },
  {
   "cell_type": "code",
   "execution_count": 46,
   "id": "f3f8ec6a-4c0f-4d33-baa7-6f0eb19464a2",
   "metadata": {
    "tags": []
   },
   "outputs": [],
   "source": [
    "def tranformer_func (inputs : dict) ->dict:\n",
    "    text = inputs[\"text\"]\n",
    "    only_review_text = text.split(\"REVIEW:\")[-1]\n",
    "    lower_case_text = only_review_text.lower()\n",
    "    return {\"output\":lower_case_text}"
   ]
  },
  {
   "cell_type": "code",
   "execution_count": 47,
   "id": "1aee2e55-8518-4e86-84e3-1f166490eb59",
   "metadata": {
    "tags": []
   },
   "outputs": [],
   "source": [
    "transform_chain = TransformChain(\n",
    "    input_variables=['text'],\n",
    "    output_variables=['output'],\n",
    "    transform=tranformer_func\n",
    ")"
   ]
  },
  {
   "cell_type": "code",
   "execution_count": 48,
   "id": "fa5d5f04-fa7b-4784-9a90-c11c773d56fc",
   "metadata": {
    "tags": []
   },
   "outputs": [
    {
     "data": {
      "text/plain": [
       "'langchain is an open-source framework designed to simplify the creation of applications sing large language models(llms). it provides a standard interface of chains, lots of integrations with other tools, and end-to-end chains for common applications.it allows ai developers to develop applications based on the combined large language models (llms) such as gpt-4 with external sources of computation and data. this framework comes with a package for both python and javascript.\\n\\napplications of langchain:\\n\\nlangchain is a powerful tool that can be used to build a wide range of llm-powered applications.it is simple to use and has a large user and contributor community.\\n\\n1. document analysis and summarization\\n2. chatbots: langchain can be used to build chatbots that interact with users naturally. for example, langchain can be used to build a chatbot that can answer client questions, provide customer assistance, and even arrange appointments.\\n3. code analysis: langchain can be used to analyse code and find potential bugs or security flaws.\\nanswering questions using sources: langchain can be used to answer questions using a variety of sources, including text, code, and data. for example, langchain can be used to answer questions about a specific topic by searching through a variety of sources, such as wikipedia, news articles, and code repositories.\\n4. data augmentation: langchain can be used to augment data by generating new data that is similar to existing data. for example, langchain can be used to generate new text data that is similar to existing text data. this can be useful for training machine learning models or for creating new datasets.\\n5. text classification: langchain can be used for text classifications and sentiment analysis with the text input data\\n6. text summarization: langchain can be used to summarize the text in the specified number of words or sentences.\\n7. machine translation: langchain can be used to translate the input text data into different languages.\\n\\nthe main properties of the langchain network:\\n\\n1. components: components are modular building blocks that are ready and easy to use to build powerful applications. components include llm wrappers, prompt template and indexes for relevant information retrieval.\\n2. chains: chains allow us to combine multiple components together to solve a specific task. chains make it easy for the implementation of complex applications by making it more modular and simple to debug and maintain.\\n3. agents: agents allow llms to interact with their environment. for example, using an external api to perform a specific action.\\n\\n\\n\\n\\n\\n\\n\\n\\n\\n\\n'"
      ]
     },
     "execution_count": 48,
     "metadata": {},
     "output_type": "execute_result"
    }
   ],
   "source": [
    "transform[\"output\"]"
   ]
  },
  {
   "cell_type": "code",
   "execution_count": 49,
   "id": "7cd700a4-8775-4fe9-8499-ca6bd3264ee8",
   "metadata": {
    "tags": []
   },
   "outputs": [],
   "source": [
    "template = \"Create a one sentence summary of this review. \\n {review_text}\"\n",
    "prompt = ChatPromptTemplate.from_template(template=template)"
   ]
  },
  {
   "cell_type": "code",
   "execution_count": 50,
   "id": "9912e062-8e28-496a-8b2f-e3231006379f",
   "metadata": {
    "tags": []
   },
   "outputs": [
    {
     "name": "stdout",
     "output_type": "stream",
     "text": [
      "Create a one sentence summary of this review. \n",
      " {review_text}\n"
     ]
    }
   ],
   "source": [
    "print(template)"
   ]
  },
  {
   "cell_type": "code",
   "execution_count": 51,
   "id": "e64dd867-1686-496c-be79-740367b2d02f",
   "metadata": {
    "tags": []
   },
   "outputs": [],
   "source": [
    "summary_chain = LLMChain(llm=chat, prompt=prompt, output_key = \"review_summary\")"
   ]
  },
  {
   "cell_type": "code",
   "execution_count": 57,
   "id": "ef3d14c2-9121-4ed6-8798-8962836fceb3",
   "metadata": {
    "tags": []
   },
   "outputs": [],
   "source": [
    "chain = SimpleSequentialChain(chains=[transform_chain, summary_chain], verbose=True)"
   ]
  },
  {
   "cell_type": "code",
   "execution_count": null,
   "id": "d3e8f8d8-7ed2-4c32-b0e8-d8cc86653611",
   "metadata": {
    "tags": []
   },
   "outputs": [],
   "source": []
  },
  {
   "cell_type": "code",
   "execution_count": 58,
   "id": "e2090277-2eac-4625-afff-9a79c9a849d9",
   "metadata": {
    "tags": []
   },
   "outputs": [
    {
     "name": "stdout",
     "output_type": "stream",
     "text": [
      "\n",
      "\n",
      "\u001b[1m> Entering new SimpleSequentialChain chain...\u001b[0m\n",
      "\u001b[36;1m\u001b[1;3mlangchain is an open-source framework designed to simplify the creation of applications sing large language models(llms). it provides a standard interface of chains, lots of integrations with other tools, and end-to-end chains for common applications.it allows ai developers to develop applications based on the combined large language models (llms) such as gpt-4 with external sources of computation and data. this framework comes with a package for both python and javascript.\n",
      "\n",
      "applications of langchain:\n",
      "\n",
      "langchain is a powerful tool that can be used to build a wide range of llm-powered applications.it is simple to use and has a large user and contributor community.\n",
      "\n",
      "1. document analysis and summarization\n",
      "2. chatbots: langchain can be used to build chatbots that interact with users naturally. for example, langchain can be used to build a chatbot that can answer client questions, provide customer assistance, and even arrange appointments.\n",
      "3. code analysis: langchain can be used to analyse code and find potential bugs or security flaws.\n",
      "answering questions using sources: langchain can be used to answer questions using a variety of sources, including text, code, and data. for example, langchain can be used to answer questions about a specific topic by searching through a variety of sources, such as wikipedia, news articles, and code repositories.\n",
      "4. data augmentation: langchain can be used to augment data by generating new data that is similar to existing data. for example, langchain can be used to generate new text data that is similar to existing text data. this can be useful for training machine learning models or for creating new datasets.\n",
      "5. text classification: langchain can be used for text classifications and sentiment analysis with the text input data\n",
      "6. text summarization: langchain can be used to summarize the text in the specified number of words or sentences.\n",
      "7. machine translation: langchain can be used to translate the input text data into different languages.\n",
      "\n",
      "the main properties of the langchain network:\n",
      "\n",
      "1. components: components are modular building blocks that are ready and easy to use to build powerful applications. components include llm wrappers, prompt template and indexes for relevant information retrieval.\n",
      "2. chains: chains allow us to combine multiple components together to solve a specific task. chains make it easy for the implementation of complex applications by making it more modular and simple to debug and maintain.\n",
      "3. agents: agents allow llms to interact with their environment. for example, using an external api to perform a specific action.\n",
      "\n",
      "\n",
      "\n",
      "\n",
      "\n",
      "\n",
      "\n",
      "\n",
      "\n",
      "\n",
      "\u001b[0m\n",
      "\u001b[33;1m\u001b[1;3mLangchain is an open-source framework that simplifies creating applications using large language models by offering standard chains, integrations, and end-to-end chains.\u001b[0m\n",
      "\n",
      "\u001b[1m> Finished chain.\u001b[0m\n"
     ]
    }
   ],
   "source": [
    "result = chain.invoke({\"input\":my_review})"
   ]
  },
  {
   "cell_type": "code",
   "execution_count": 18,
   "id": "d199821c-1f3d-4581-a51e-5479d09f57b8",
   "metadata": {
    "tags": []
   },
   "outputs": [
    {
     "name": "stdout",
     "output_type": "stream",
     "text": [
      "LangChain is an open-source framework that enables AI developers to easily create applications powered by large language models and external data sources.\n"
     ]
    }
   ],
   "source": [
    "print (result[\"output\"])"
   ]
  },
  {
   "cell_type": "code",
   "execution_count": 19,
   "id": "0dac23ac-1df7-496e-8ac7-60984679abd8",
   "metadata": {
    "tags": []
   },
   "outputs": [
    {
     "name": "stdout",
     "output_type": "stream",
     "text": [
      "{'input': 'LangChain is an open-source framework designed to simplify the creation of applications sing large language models(LLMs). It provides a standard interface of chains, lots of integrations with other tools, and end-to-end chains for common applications.It allows AI developers to develop applications based on the combined Large Language Models (LLMs) such as GPT-4 with external sources of computation and data. This framework comes with a package for both Python and JavaScript.\\n\\nApplications of LangChain:\\n\\nLangChain is a powerful tool that can be used to build a wide range of LLM-powered applications.It is simple to use and has a large user and contributor community.\\n\\n1. Document analysis and summarization\\n2. Chatbots: LangChain can be used to build chatbots that interact with users naturally. For example, LangChain can be used to build a chatbot that can answer client questions, provide customer assistance, and even arrange appointments.\\n3. Code analysis: LangChain can be used to analyse code and find potential bugs or security flaws.\\nAnswering questions using sources: LangChain can be used to answer questions using a variety of sources, including text, code, and data. For example, LangChain can be used to answer questions about a specific topic by searching through a variety of sources, such as Wikipedia, news articles, and code repositories.\\n4. Data augmentation: LangChain can be used to augment data by generating new data that is similar to existing data. For example, LangChain can be used to generate new text data that is similar to existing text data. This can be useful for training machine learning models or for creating new datasets.\\n5. Text classification: LangChain can be used for text classifications and sentiment analysis with the text input data\\n6. Text summarization: LangChain can be used to summarize the text in the specified number of words or sentences.\\n7. Machine translation: LangChain can be used to translate the input text data into different languages.\\n\\nThe main properties of the LangChain network:\\n\\n1. Components: Components are modular building blocks that are ready and easy to use to build powerful applications. Components include LLM Wrappers, Prompt Template and Indexes for relevant information retrieval.\\n2. Chains: Chains allow us to combine multiple components together to solve a specific task. Chains make it easy for the implementation of complex applications by making it more modular and simple to debug and maintain.\\n3. Agents: Agents allow LLMs to interact with their environment. For example, using an external API to perform a specific action.\\n\\n\\n\\n\\n\\n\\n\\n\\n\\n\\n', 'output': 'LangChain is an open-source framework that enables AI developers to easily create applications powered by large language models and external data sources.'}\n"
     ]
    }
   ],
   "source": [
    "print(result)"
   ]
  },
  {
   "cell_type": "code",
   "execution_count": null,
   "id": "1bb12bfc-55d5-4278-96e2-25653baf1e5a",
   "metadata": {},
   "outputs": [],
   "source": [
    "LLMChain"
   ]
  }
 ],
 "metadata": {
  "kernelspec": {
   "display_name": "Python 3 (ipykernel)",
   "language": "python",
   "name": "python3"
  },
  "language_info": {
   "codemirror_mode": {
    "name": "ipython",
    "version": 3
   },
   "file_extension": ".py",
   "mimetype": "text/x-python",
   "name": "python",
   "nbconvert_exporter": "python",
   "pygments_lexer": "ipython3",
   "version": "3.11.5"
  }
 },
 "nbformat": 4,
 "nbformat_minor": 5
}
